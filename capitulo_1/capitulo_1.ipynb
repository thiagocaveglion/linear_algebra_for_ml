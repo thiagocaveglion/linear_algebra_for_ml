{
 "cells": [
  {
   "cell_type": "markdown",
   "metadata": {},
   "source": [
    "# <b>Introdução</b>\n",
    "---"
   ]
  },
  {
   "cell_type": "markdown",
   "metadata": {},
   "source": [
    "### Esse livro cobre álgebra linear \"clássica\", incluindo decomposição primária e a forma de Jordan. Além de cobrir tópicos padrão, são discutidos alguns tópicos que são importante para aplicações. Eles incluem:\n"
   ]
  },
  {
   "cell_type": "markdown",
   "metadata": {},
   "source": [
    "### &nbsp;&nbsp;&nbsp; 1. Bases de Haar e wavelets de Haar, ferramenta fundamental para processamento de sinais e computação gráfica. \n",
    "### &nbsp;&nbsp;&nbsp; 2. Matrizes de Hadamard, que dem aplicação em correção de erros de código, processamento de sinal e aproximação de baixa ordem.\n",
    "### &nbsp;&nbsp;&nbsp; 3. Mapas de afinidade, definidos por combinações de afinidade; Mapas lineares preservam combinações lineares e, semelhantemente, mapas de afinidade preservam combinações de afinidade.\n",
    "### &nbsp;&nbsp;&nbsp; 4. Normas e normas matriciais, extensivamente utilizadas em teoria da otimização.\n",
    "### &nbsp;&nbsp;&nbsp; 5. Convergência de sequências e séries em um espaço vetorial normalizado, espaços de Banach, a matriz exponencial e<sup>A</sup> e suas propriedades.\n",
    "### &nbsp;&nbsp;&nbsp; 6. O grupo de unit quartenions, SU(2), e a representação de rotações em SO(3) por unit quartenions.\n",
    "### &nbsp;&nbsp;&nbsp; 7. Uma introdução à gráficos algébricos e espectrais. Define-se o gráfico como \"Laplacian\" e prova-se algumas propriedades basicas dele.\n",
    "### &nbsp;&nbsp;&nbsp; 8. Aplicações de SVD e pseudo-inverso, e análise do componente principal (PCA) em particular.\n",
    "### &nbsp;&nbsp;&nbsp; 9. Métodos para computar valores próprios e vetores próprios.\n"
   ]
  },
  {
   "cell_type": "markdown",
   "metadata": {},
   "source": [
    "### Cinco tópicos são explorados com mais detalhes do que o normal. São eles:"
   ]
  },
  {
   "cell_type": "markdown",
   "metadata": {},
   "source": [
    "### &nbsp;&nbsp;&nbsp; 1. Fatorações de matrizes.\n",
    "### &nbsp;&nbsp;&nbsp; 2. Dualidade.\n",
    "### &nbsp;&nbsp;&nbsp; 3. Norma dual\n",
    "### &nbsp;&nbsp;&nbsp; 4. A geometria de grupos ortogonais O(n) e SO(n), e dos grupos unitários U(n) e SU(n)\n",
    "### &nbsp;&nbsp;&nbsp; 5. Os teoremas espectrais\n"
   ]
  }
 ],
 "metadata": {
  "language_info": {
   "name": "python"
  },
  "orig_nbformat": 4
 },
 "nbformat": 4,
 "nbformat_minor": 2
}
