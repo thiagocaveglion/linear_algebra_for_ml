{
 "cells": [
  {
   "cell_type": "markdown",
   "metadata": {},
   "source": [
    "# <b>Espaços vetoriais, Bases, Mapas Lineares</b>\n",
    "---"
   ]
  },
  {
   "cell_type": "markdown",
   "metadata": {},
   "source": [
    "## <b>Motivações: Combinações lineares, independencia linear e ordem</b>"
   ]
  },
  {
   "cell_type": "markdown",
   "metadata": {},
   "source": [
    "### Em problemas de otimização linear, frequentemente encontramos sistemas de equações lineares. Por exemplo, considere o problema de resolver o seguinte sistema de três equações lineares nas três variáveis x<sub>1</sub>, x<sub>2</sub>, x<sub>3</sub> pertencentes a IR:"
   ]
  },
  {
   "cell_type": "markdown",
   "metadata": {},
   "source": [
    "![Alt text](imagens/image.png)"
   ]
  },
  {
   "cell_type": "markdown",
   "metadata": {},
   "source": [
    "### Uma maneira de nos aproximarmos do problema é introduzir os \"vetores\" u, v, w e b dados por:"
   ]
  },
  {
   "cell_type": "markdown",
   "metadata": {},
   "source": [
    "![Alt text](imagens/image1.png)"
   ]
  },
  {
   "cell_type": "markdown",
   "metadata": {},
   "source": [
    "### E escrever nosso sistema linear como:"
   ]
  },
  {
   "cell_type": "markdown",
   "metadata": {},
   "source": [
    "![Alt text](imagens/image3.png)"
   ]
  },
  {
   "cell_type": "markdown",
   "metadata": {},
   "source": [
    "### Na equação acima, assumimos implicitamente o fato de que um vetor z pode ser multiplicado por um escalar lambda pertencente aos reais, onde:"
   ]
  },
  {
   "cell_type": "markdown",
   "metadata": {},
   "source": [
    "![Alt text](imagens/image4.png)"
   ]
  },
  {
   "cell_type": "markdown",
   "metadata": {},
   "source": [
    "### E assumimos também que dois vetores y e z podem ser adicionados, onde:"
   ]
  },
  {
   "cell_type": "markdown",
   "metadata": {},
   "source": [
    "![Alt text](imagens/image5.png)"
   ]
  },
  {
   "cell_type": "markdown",
   "metadata": {},
   "source": [
    "### Além disso, dado o vetor:"
   ]
  },
  {
   "cell_type": "markdown",
   "metadata": {},
   "source": [
    "![Alt text](imagens/image6.png)"
   ]
  },
  {
   "cell_type": "markdown",
   "metadata": {},
   "source": [
    "### Definimos o inverso aditivo (oposto) -x de x (pronunciado \"menos x\") como:"
   ]
  },
  {
   "cell_type": "markdown",
   "metadata": {},
   "source": [
    "![Alt text](imagens/image7.png)"
   ]
  },
  {
   "cell_type": "markdown",
   "metadata": {},
   "source": [
    "### Observe que -x = (-1)x, a multiplicação escalar de x por -1"
   ]
  },
  {
   "cell_type": "markdown",
   "metadata": {},
   "source": [
    "### O conjunto de todos os vetores com três componentes é denotado por IR<sup>3x1</sup>. A razão para se utilizar IR<sup>3x1</sup> ao invés da notação mais convencional IR<sup>3</sup> é que os elementos de IR<sup>3x1</sup> são vetores de coluna; eles consistem de 3 linhas e uma única coluna, o que explica o sobrescrito 3x1. Em outra visão, IR<sup>3</sup> = IR x IR x IR consiste de trios no formato (x<sub>1</sub>, x<sub>2</sub>, x<sub>3</sub>) com x<sub>1</sub>, x<sub>2</sub>, x<sub>3</sub> pertencentes aos Reais e esses são vetores de linha. De qualquer forma, existe uma bijeção óbvia entre IR<sup>3x1</sup> e IR<sup>3</sup> e ela é geralmente identificada. Denota-se o conjunto de vetores coluna com n componentes por IR<sup>nx1</sup>"
   ]
  },
  {
   "cell_type": "markdown",
   "metadata": {},
   "source": [
    "### Uma expressão com o formato"
   ]
  },
  {
   "cell_type": "markdown",
   "metadata": {},
   "source": [
    "![Alt text](imagens/image8.png)"
   ]
  },
  {
   "cell_type": "markdown",
   "metadata": {},
   "source": [
    "### Onde u, v, w são vetores e os x<sub>i</sub>s são escalares (em IR) é chamado de combinação linear. Usando essa noção, o problema de resolver nosso sistema linear x<sub>1</sub>u + x<sub>2</sub>v + x<sub>3</sub>w = b é equivalente a determinar se b pode ser expressado ou não como uma combinação linear de u, v e w."
   ]
  },
  {
   "cell_type": "markdown",
   "metadata": {},
   "source": [
    "### Agora, se os vetores u, v, w são linearmente independentes, o que significa que não existe terno (x<sub>1</sub>, x<sub>2</sub>, x<sub>3</sub>) != (0, 0, 0) tal que"
   ]
  },
  {
   "cell_type": "markdown",
   "metadata": {},
   "source": [
    "![Alt text](imagens/image9.png)"
   ]
  },
  {
   "cell_type": "markdown",
   "metadata": {},
   "source": [
    "### pode ser mostrado que <i>todo</i> vetor em IR<sup>3x1</sup> pode ser escrito como uma combinação linear de u, v, w. Aqui, 0<sub>3</sub> é o vetor zero:"
   ]
  },
  {
   "cell_type": "markdown",
   "metadata": {},
   "source": [
    "![Alt text](imagens/image10.png)"
   ]
  },
  {
   "cell_type": "markdown",
   "metadata": {},
   "source": [
    "### É comum abusar da notação e escrever 0 ao invés de 0<sub>3</sub>. Isso raramente causa problemas, porque, na maioria dos casos, é possível inferir a partir do contexto se o 0 denota o 0 escalar ou o vetor 0."
   ]
  },
  {
   "cell_type": "markdown",
   "metadata": {},
   "source": [
    "### Todo vetor z e IR<sup>3x1</sup> pode ser escrito de maneira única como uma combinação linear:\n"
   ]
  },
  {
   "cell_type": "markdown",
   "metadata": {},
   "source": [
    "![Alt text](imagens/image11.png)"
   ]
  },
  {
   "cell_type": "markdown",
   "metadata": {},
   "source": [
    "### Isso é porque"
   ]
  },
  {
   "cell_type": "markdown",
   "metadata": {},
   "source": [
    "### z = x<sub>1</sub>u + x<sub>2</sub>v + x<sub>3</sub>w = y<sub>1</sub>u + y<sub>2</sub>v + y<sub>3</sub>w"
   ]
  },
  {
   "cell_type": "markdown",
   "metadata": {},
   "source": [
    "### Então, usando nossas operações (lineares!) em vetores, nós conseguimos"
   ]
  },
  {
   "cell_type": "markdown",
   "metadata": {},
   "source": [
    "### (x<sub>1</sub> - y<sub>1</sub>)u + (x<sub>2</sub> - y<sub>2</sub>)v + (x<sub>3</sub> -  y<sub>3</sub>)w = 0"
   ]
  },
  {
   "cell_type": "markdown",
   "metadata": {},
   "source": [
    "### Que implica que"
   ]
  },
  {
   "cell_type": "markdown",
   "metadata": {},
   "source": [
    "### x<sub>1</sub> - y<sub>1</sub> = x<sub>2</sub> - y<sub>2</sub> = x<sub>3</sub> -  y<sub>3</sub> = 0"
   ]
  },
  {
   "cell_type": "markdown",
   "metadata": {},
   "source": [
    "### Por independência linear. Portanto"
   ]
  },
  {
   "cell_type": "markdown",
   "metadata": {},
   "source": [
    "###  x<sub>1</sub> = y<sub>1</sub>, x<sub>2</sub> = y<sub>2</sub>, x<sub>3</sub> = y<sub>3</sub>"
   ]
  },
  {
   "cell_type": "markdown",
   "metadata": {},
   "source": [
    "### Que demonstra que z tem uma expressão única como uma combinação linear, como assumido. Então nossa equação"
   ]
  },
  {
   "cell_type": "markdown",
   "metadata": {},
   "source": [
    "### x<sub>1</sub>u + x<sub>2</sub>v + x<sub>3</sub>w = b"
   ]
  },
  {
   "cell_type": "markdown",
   "metadata": {},
   "source": [
    "### Tem uma única solução, e de fato, podemos checar que"
   ]
  },
  {
   "cell_type": "markdown",
   "metadata": {},
   "source": [
    "### x<sub>1</sub> = 1.4\n",
    "### x<sub>2</sub> = -0.4\n",
    "### x<sub>3</sub> = -0.4"
   ]
  },
  {
   "cell_type": "markdown",
   "metadata": {},
   "source": [
    "### É a solução."
   ]
  },
  {
   "cell_type": "markdown",
   "metadata": {},
   "source": [
    "### Mas então, <i>como determinar se vetores são independentes lineares?</i>"
   ]
  },
  {
   "cell_type": "markdown",
   "metadata": {},
   "source": [
    "### Uma resposta é computar uma quantidade numérica det(u, v, w) chamada de <i>determinante</i> de (u, v, w), e checar se é diferente de 0. No nosso caso. acontece que"
   ]
  },
  {
   "cell_type": "markdown",
   "metadata": {},
   "source": [
    "![Alt text](imagens/image12.png)"
   ]
  },
  {
   "cell_type": "markdown",
   "metadata": {},
   "source": [
    "### O que confirma que u, v, w são linearmente independentes."
   ]
  },
  {
   "cell_type": "markdown",
   "metadata": {},
   "source": [
    "### Outros métodos, que são muito melhores para sistemas com um grande número de variáveis, consistem em computar uma decomposição LU ou uma decomposição QR, ou uma SVD (single value decomposition) da matriz, consistindo das três colunas u, v, w"
   ]
  },
  {
   "cell_type": "markdown",
   "metadata": {},
   "source": [
    "![Alt text](imagens/image13.png)"
   ]
  },
  {
   "cell_type": "markdown",
   "metadata": {},
   "source": [
    "### Se formarmos o vetor de variáveis desconhecidas"
   ]
  },
  {
   "cell_type": "markdown",
   "metadata": {},
   "source": [
    "![Alt text](imagens/image14.png)"
   ]
  },
  {
   "cell_type": "markdown",
   "metadata": {},
   "source": [
    "### Então nossa combinação linear pode ser escrita em formato de matriz como "
   ]
  },
  {
   "cell_type": "markdown",
   "metadata": {},
   "source": [
    "![Alt text](imagens/image15.png)"
   ]
  },
  {
   "cell_type": "markdown",
   "metadata": {},
   "source": [
    "### E nosso sistema linear expressado por"
   ]
  },
  {
   "cell_type": "markdown",
   "metadata": {},
   "source": [
    "![Alt text](imagens/image16.png)"
   ]
  },
  {
   "cell_type": "markdown",
   "metadata": {},
   "source": [
    "### Ou mais concisamente por "
   ]
  },
  {
   "cell_type": "markdown",
   "metadata": {},
   "source": [
    "### Ax = b"
   ]
  }
 ],
 "metadata": {
  "language_info": {
   "name": "python"
  },
  "orig_nbformat": 4
 },
 "nbformat": 4,
 "nbformat_minor": 2
}
