{
 "cells": [
  {
   "cell_type": "markdown",
   "metadata": {},
   "source": [
    "# <b>Espaços vetoriais, Bases, Mapas Lineares</b>\n",
    "---"
   ]
  },
  {
   "cell_type": "markdown",
   "metadata": {},
   "source": [
    "## <b>Motivações: Combinações lineares, independencia linear e ordem</b>"
   ]
  },
  {
   "cell_type": "markdown",
   "metadata": {},
   "source": [
    "### Em problemas de otimização linear, frequentemente encontramos sistemas de equações lineares. Por exemplo, considere o problema de resolver o seguinte sistema de três equações lineares nas três variáveis x<sub>1</sub>, x<sub>2</sub>, x<sub>3</sub> pertencentes a IR:"
   ]
  },
  {
   "cell_type": "markdown",
   "metadata": {},
   "source": [
    "![Alt text](imagens/image.png)"
   ]
  },
  {
   "cell_type": "markdown",
   "metadata": {},
   "source": [
    "### Uma maneira de nos aproximarmos do problema é introduzir os \"vetores\" u, v, w e b dados por:"
   ]
  },
  {
   "cell_type": "markdown",
   "metadata": {},
   "source": [
    "![Alt text](imagens/image1.png)"
   ]
  },
  {
   "cell_type": "markdown",
   "metadata": {},
   "source": [
    "### E escrever nosso sistema linear como:"
   ]
  },
  {
   "cell_type": "markdown",
   "metadata": {},
   "source": [
    "![Alt text](imagens/image3.png)"
   ]
  },
  {
   "cell_type": "markdown",
   "metadata": {},
   "source": [
    "### Na equação acima, assumimos implicitamente o fato de que um vetor z pode ser multiplicado por um escalar lambda pertencente aos reais, onde:"
   ]
  },
  {
   "cell_type": "markdown",
   "metadata": {},
   "source": [
    "![Alt text](imagens/image4.png)"
   ]
  },
  {
   "cell_type": "markdown",
   "metadata": {},
   "source": [
    "### E assumimos também que dois vetores y e z podem ser adicionados, onde:"
   ]
  },
  {
   "cell_type": "markdown",
   "metadata": {},
   "source": [
    "![Alt text](imagens/image5.png)"
   ]
  },
  {
   "cell_type": "markdown",
   "metadata": {},
   "source": [
    "### Além disso, dado o vetor:"
   ]
  },
  {
   "cell_type": "markdown",
   "metadata": {},
   "source": [
    "![Alt text](imagens/image6.png)"
   ]
  },
  {
   "cell_type": "markdown",
   "metadata": {},
   "source": [
    "### Definimos o inverso aditivo (oposto) -x de x (pronunciado \"menos x\") como:"
   ]
  },
  {
   "cell_type": "markdown",
   "metadata": {},
   "source": [
    "![Alt text](imagens/image7.png)"
   ]
  },
  {
   "cell_type": "markdown",
   "metadata": {},
   "source": [
    "### Observe que -x = (-1)x, a multiplicação escalar de x por -1"
   ]
  },
  {
   "cell_type": "markdown",
   "metadata": {},
   "source": [
    "### O conjunto de todos os vetores com três componentes é denotado por IR<sup>3x1</sup>. A razão para se utilizar IR<sup>3x1</sup> ao invés da notação mais convencional IR<sup>3</sup> é que os elementos de IR<sup>3x1</sup> são vetores de coluna; eles consistem de 3 linhas e uma única coluna, o que explica o sobrescrito 3x1. Em outra visão, IR<sup>3</sup> = IR x IR x IR consiste de trios no formato (x<sub>1</sub>, x<sub>2</sub>, x<sub>3</sub>) com x<sub>1</sub>, x<sub>2</sub>, x<sub>3</sub> pertencentes aos Reais e esses são vetores de linha. De qualquer forma, existe uma bijeção óbvia entre IR<sup>3x1</sup> e IR<sup>3</sup> e ela é geralmente identificada. Denota-se o conjunto de vetores coluna com n componentes por IR<sup>nx1</sup>"
   ]
  },
  {
   "cell_type": "markdown",
   "metadata": {},
   "source": [
    "### Uma expressão com o formato"
   ]
  },
  {
   "cell_type": "markdown",
   "metadata": {},
   "source": [
    "![Alt text](imagens/image8.png)"
   ]
  },
  {
   "cell_type": "markdown",
   "metadata": {},
   "source": [
    "### Onde u, v, w são vetores e os x<sub>i</sub>s são escalares (em IR) é chamado de combinação linear. Usando essa noção, o problema de resolver nosso sistema linear x<sub>1</sub>u + x<sub>2</sub>v + x<sub>3</sub>w = b é equivalente a determinar se b pode ser expressado ou não como uma combinação linear de u, v e w."
   ]
  },
  {
   "cell_type": "markdown",
   "metadata": {},
   "source": [
    "### Agora, se os vetores u, v, w são linearmente independentes, o que significa que não existe terno (x<sub>1</sub>, x<sub>2</sub>, x<sub>3</sub>) != (0, 0, 0) tal que"
   ]
  },
  {
   "cell_type": "markdown",
   "metadata": {},
   "source": [
    "![Alt text](imagens/image9.png)"
   ]
  },
  {
   "cell_type": "markdown",
   "metadata": {},
   "source": [
    "### pode ser mostrado que <i>todo</i> vetor em IR<sup>3x1</sup> pode ser escrito como uma combinação linear de u, v, w. Aqui, 0<sub>3</sub> é o vetor zero:"
   ]
  },
  {
   "cell_type": "markdown",
   "metadata": {},
   "source": [
    "![Alt text](imagens/image10.png)"
   ]
  }
 ],
 "metadata": {
  "language_info": {
   "name": "python"
  },
  "orig_nbformat": 4
 },
 "nbformat": 4,
 "nbformat_minor": 2
}
